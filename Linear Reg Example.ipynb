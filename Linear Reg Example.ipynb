{
 "cells": [
  {
   "cell_type": "code",
   "execution_count": null,
   "metadata": {},
   "outputs": [],
   "source": [
    "import numpy as np\n",
    "import matplotlib.pyplot as plt\n",
    "import random"
   ]
  },
  {
   "cell_type": "code",
   "execution_count": null,
   "metadata": {
    "scrolled": false
   },
   "outputs": [],
   "source": [
    "step=0.1\n",
    "x = np.arange(0.0, 50, step)\n",
    "k=0.3 # unknown value\n",
    "y=k*x\n",
    "NumExamples=20\n",
    "x1=[0]*NumExamples\n",
    "y1=[0]*NumExamples\n",
    "\n",
    "for i in range(0, NumExamples):\n",
    "     idx=random.randint(50,len(x)-1)\n",
    "     x1[i]=x[idx]\n",
    "     y1[i]=y[idx]+random.uniform(-3,3)\n",
    "    \n",
    "    \n",
    "plt.figure(1)\n",
    "plt.plot(x, y,'b')\n",
    "plt.plot(x1, y1,'xr')\n",
    "plt.ylabel('Rental price, $100')\n",
    "plt.xlabel('Area of apartment')\n",
    "plt.xlim((10,50))\n",
    "plt.show()"
   ]
  },
  {
   "cell_type": "code",
   "execution_count": null,
   "metadata": {},
   "outputs": [],
   "source": [
    "for i in range(NumExamples):\n",
    "  print('% 2.2f' % x1[i], '% 2.2f' % y1[i])"
   ]
  },
  {
   "cell_type": "code",
   "execution_count": null,
   "metadata": {},
   "outputs": [],
   "source": [
    "st=0.01\n",
    "w=np.arange(0.0, 0.55, st)\n",
    "J=0\n",
    "w = np.reshape(w, (-1, 1))\n",
    "x1=np.array(x1)\n",
    "x1=np.reshape(x1, (-1, 1))\n",
    "y1=np.array(y1).reshape(-1,1)\n",
    "predictions = np.dot(x1, w.T)\n",
    "temp = predictions - y1\n",
    "sqrErrors = temp * temp\n",
    "J=1/(2*NumExamples)*sum(sqrErrors)\n",
    "\n",
    "plt.plot(w, J,'b')\n",
    "plt.plot(w, J,'xr')\n",
    "plt.title('Cost function')\n",
    "plt.ylabel('J')\n",
    "plt.xlabel('w_1')"
   ]
  },
  {
   "cell_type": "code",
   "execution_count": null,
   "metadata": {},
   "outputs": [],
   "source": [
    "num_iters=50\n",
    "alpha=0.0001\n",
    "\n",
    "theta1=1\n",
    "\n",
    "th1=[0]*num_iters\n",
    "th1[0]=theta1\n",
    "\n",
    "for iter in range(1, num_iters):\n",
    "    predict=(x1*theta1)\n",
    "    temp = 1/NumExamples*(predict-y1)\n",
    "    dJ=np.dot(temp.T,x1)\n",
    "    theta1=theta1-alpha*dJ[0,0]\n",
    "    th1[iter]=theta1\n",
    "\n",
    "th1=np.array(th1)\n",
    "XX=np.arange(0, num_iters)\n",
    "plt.plot(XX, th1,'b')\n",
    "\n",
    "plt.show()"
   ]
  },
  {
   "cell_type": "code",
   "execution_count": null,
   "metadata": {},
   "outputs": [],
   "source": []
  }
 ],
 "metadata": {
  "kernelspec": {
   "display_name": "Python 3",
   "language": "python",
   "name": "python3"
  },
  "language_info": {
   "codemirror_mode": {
    "name": "ipython",
    "version": 3
   },
   "file_extension": ".py",
   "mimetype": "text/x-python",
   "name": "python",
   "nbconvert_exporter": "python",
   "pygments_lexer": "ipython3",
   "version": "3.6.4"
  }
 },
 "nbformat": 4,
 "nbformat_minor": 2
}
