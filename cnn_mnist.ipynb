{
  "nbformat": 4,
  "nbformat_minor": 0,
  "metadata": {
    "colab": {
      "name": "cnn-mnist.ipynb",
      "version": "0.3.2",
      "provenance": [],
      "include_colab_link": true
    },
    "kernelspec": {
      "name": "python3",
      "display_name": "Python 3"
    },
    "accelerator": "GPU"
  },
  "cells": [
    {
      "cell_type": "markdown",
      "metadata": {
        "id": "view-in-github",
        "colab_type": "text"
      },
      "source": [
        "<a href=\"https://colab.research.google.com/github/anewmur/ML_for_OilGas/blob/master/cnn_mnist.ipynb\" target=\"_parent\"><img src=\"https://colab.research.google.com/assets/colab-badge.svg\" alt=\"Open In Colab\"/></a>"
      ]
    },
    {
      "cell_type": "code",
      "metadata": {
        "id": "cZIhFqIQ0o1o",
        "colab_type": "code",
        "outputId": "57a39cd8-d269-4f66-b985-4836ace16e1c",
        "colab": {
          "base_uri": "https://localhost:8080/",
          "height": 36
        }
      },
      "source": [
        "from keras.datasets import mnist \n",
        "from keras.models import Model \n",
        "from keras.layers import Dense, Dropout, Flatten\n",
        "from keras.utils import np_utils \n",
        "from keras.models import Sequential\n",
        "from keras.layers import Conv2D, MaxPooling2D\n",
        "import matplotlib.pyplot as plt\n",
        "import numpy as np\n",
        "from keras import backend as K\n",
        "import sys\n"
      ],
      "execution_count": 0,
      "outputs": [
        {
          "output_type": "stream",
          "text": [
            "Using TensorFlow backend.\n"
          ],
          "name": "stderr"
        }
      ]
    },
    {
      "cell_type": "code",
      "metadata": {
        "id": "0KZCtM9W03SE",
        "colab_type": "code",
        "outputId": "b4884dee-7284-42eb-c721-b4f2aa355340",
        "colab": {
          "base_uri": "https://localhost:8080/",
          "height": 54
        }
      },
      "source": [
        "height, width, depth = 28, 28, 1 # MNIST images are 28x28 and greyscale\n",
        "num_classes = 10 # there are 10 classes (1 per digit)\n",
        "\n",
        "(X_train, y_train), (X_test, y_test) = mnist.load_data() # fetch MNIST data"
      ],
      "execution_count": 0,
      "outputs": [
        {
          "output_type": "stream",
          "text": [
            "Downloading data from https://s3.amazonaws.com/img-datasets/mnist.npz\n",
            "11493376/11490434 [==============================] - 0s 0us/step\n"
          ],
          "name": "stdout"
        }
      ]
    },
    {
      "cell_type": "code",
      "metadata": {
        "id": "cemhe1xQ1IZU",
        "colab_type": "code",
        "outputId": "18ef3d41-2619-4179-f96d-9e65375be774",
        "colab": {
          "base_uri": "https://localhost:8080/",
          "height": 36
        }
      },
      "source": [
        "num_train=len(X_train)\n",
        "num_test=len(X_test)\n",
        "num_test"
      ],
      "execution_count": 0,
      "outputs": [
        {
          "output_type": "execute_result",
          "data": {
            "text/plain": [
              "10000"
            ]
          },
          "metadata": {
            "tags": []
          },
          "execution_count": 4
        }
      ]
    },
    {
      "cell_type": "code",
      "metadata": {
        "id": "kblnPPdB1YMc",
        "colab_type": "code",
        "colab": {}
      },
      "source": [
        "height, width = X_train[0].shape\n",
        "\n",
        "depth=1\n",
        "num_classes = 10"
      ],
      "execution_count": 0,
      "outputs": []
    },
    {
      "cell_type": "code",
      "metadata": {
        "id": "_XOuxwMO1knb",
        "colab_type": "code",
        "outputId": "ec5abc0d-4a74-4f4b-de8d-b5932624beb0",
        "colab": {
          "base_uri": "https://localhost:8080/",
          "height": 269
        }
      },
      "source": [
        "index = 65          \n",
        "number_pic = X_train[index, :, :]\n",
        "number_pic_p = np.expand_dims(number_pic, axis=0)\n",
        "\n",
        "X_train_pic = np.expand_dims(number_pic, axis=2)\n",
        "X_train_pic = np.repeat(X_train_pic, 3, 2)\n",
        "plt.imshow(X_train_pic)\n",
        "plt.show()"
      ],
      "execution_count": 0,
      "outputs": [
        {
          "output_type": "display_data",
          "data": {
            "image/png": "[encoded data removed]",
            "text/plain": [
              "<Figure size 432x288 with 1 Axes>"
            ]
          },
          "metadata": {
            "tags": []
          }
        }
      ]
    },
    {
      "cell_type": "code",
      "metadata": {
        "id": "nLvQxXey_Zkd",
        "colab_type": "code",
        "outputId": "463f5152-1d57-4784-9f29-889216f0f0b5",
        "colab": {
          "base_uri": "https://localhost:8080/",
          "height": 36
        }
      },
      "source": [
        "X_train[0].shape"
      ],
      "execution_count": 0,
      "outputs": [
        {
          "output_type": "execute_result",
          "data": {
            "text/plain": [
              "(28, 28)"
            ]
          },
          "metadata": {
            "tags": []
          },
          "execution_count": 9
        }
      ]
    },
    {
      "cell_type": "code",
      "metadata": {
        "id": "VVE3pwLu2SmE",
        "colab_type": "code",
        "outputId": "864c561d-77ca-48d7-8deb-a0082fbc3cb0",
        "colab": {
          "base_uri": "https://localhost:8080/",
          "height": 36
        }
      },
      "source": [
        "X_train = X_train.reshape(X_train.shape[0], height, width, 1)\n",
        "X_test = X_test.reshape(X_test.shape[0], height, width, 1)\n",
        "input_shape = (height, width, 1)\n",
        "X_train[0].shape"
      ],
      "execution_count": 0,
      "outputs": [
        {
          "output_type": "execute_result",
          "data": {
            "text/plain": [
              "(28, 28, 1)"
            ]
          },
          "metadata": {
            "tags": []
          },
          "execution_count": 10
        }
      ]
    },
    {
      "cell_type": "code",
      "metadata": {
        "id": "2LV9fQ8Y2jHC",
        "colab_type": "code",
        "colab": {}
      },
      "source": [
        "X_train = X_train.astype('float32')\n",
        "X_test = X_test.astype('float32')\n",
        "X_train /= 255 # Normalise data to [0, 1] range\n",
        "X_test /= 255 # Normalise data to [0, 1] range"
      ],
      "execution_count": 0,
      "outputs": []
    },
    {
      "cell_type": "code",
      "metadata": {
        "id": "h1DJA1Y72odM",
        "colab_type": "code",
        "colab": {}
      },
      "source": [
        "Y_train = np_utils.to_categorical(y_train, num_classes) # One-hot encode the labels\n",
        "Y_test = np_utils.to_categorical(y_test, num_classes) # One-hot encode the labels"
      ],
      "execution_count": 0,
      "outputs": []
    },
    {
      "cell_type": "code",
      "metadata": {
        "id": "CwczSItYbM0f",
        "colab_type": "code",
        "outputId": "abc507f2-c3ee-4ab3-b5a1-76e5347e1a8f",
        "colab": {
          "base_uri": "https://localhost:8080/",
          "height": 36
        }
      },
      "source": [
        "Y_train[0]"
      ],
      "execution_count": 0,
      "outputs": [
        {
          "output_type": "execute_result",
          "data": {
            "text/plain": [
              "array([0., 0., 0., 0., 0., 1., 0., 0., 0., 0.], dtype=float32)"
            ]
          },
          "metadata": {
            "tags": []
          },
          "execution_count": 13
        }
      ]
    },
    {
      "cell_type": "code",
      "metadata": {
        "id": "G2pm5OarBr08",
        "colab_type": "code",
        "outputId": "f463fb81-d172-4118-9643-6b17b1ee34c4",
        "colab": {
          "base_uri": "https://localhost:8080/",
          "height": 36
        }
      },
      "source": [
        "#for _ in range(5): \n",
        "indexes = np.random.permutation(len(X_train))\n",
        "\n",
        "indexes"
      ],
      "execution_count": 0,
      "outputs": [
        {
          "output_type": "execute_result",
          "data": {
            "text/plain": [
              "array([ 7320, 56738, 31052, ...,  7302, 17135, 16155])"
            ]
          },
          "metadata": {
            "tags": []
          },
          "execution_count": 14
        }
      ]
    },
    {
      "cell_type": "code",
      "metadata": {
        "id": "th_utjl1CGci",
        "colab_type": "code",
        "colab": {}
      },
      "source": [
        "X_train  = X_train[indexes]\n",
        "Y_train  = Y_train [indexes]"
      ],
      "execution_count": 0,
      "outputs": []
    },
    {
      "cell_type": "code",
      "metadata": {
        "id": "xcTAMrrEI2DK",
        "colab_type": "code",
        "colab": {}
      },
      "source": [
        "val_perc = 0.10\n",
        "val_count = int(val_perc * len(X_train))\n",
        "\n",
        "# first pick validation set from train_data/labels\n",
        "val_data = X_train[:val_count,:]\n",
        "val_labels = Y_train[:val_count,:]\n",
        "\n",
        "# leave rest in training set\n",
        "X_train2 = X_train[val_count:,:]\n",
        "Y_train2 = Y_train[val_count:,:]"
      ],
      "execution_count": 0,
      "outputs": []
    },
    {
      "cell_type": "markdown",
      "metadata": {
        "id": "uW0CnA1oCPKy",
        "colab_type": "text"
      },
      "source": [
        ""
      ]
    },
    {
      "cell_type": "code",
      "metadata": {
        "id": "abMAygsy2pw0",
        "colab_type": "code",
        "outputId": "8d1cbafc-c51e-42d3-83f1-1337069ef551",
        "colab": {
          "base_uri": "https://localhost:8080/",
          "height": 799
        }
      },
      "source": [
        "from keras.layers.normalization import BatchNormalization\n",
        "\n",
        "def build_model():\n",
        "    model = Sequential()\n",
        "\n",
        "    model.add(Conv2D(filters=32, kernel_size=(3,3), activation='relu', padding='same',\n",
        "                     input_shape=(height, width, depth)))\n",
        "    model.add(BatchNormalization())\n",
        "    model.add(MaxPooling2D(pool_size=(2,2)))\n",
        "\n",
        "    \n",
        "    model.add(Conv2D(filters=64, kernel_size=(3,3), activation='relu', padding='same')) \n",
        "    model.add(BatchNormalization())\n",
        "    model.add(MaxPooling2D(pool_size=(2,2)))\n",
        "    model.add(Dropout(0.25))\n",
        "    \n",
        "    model.add(Conv2D(filters=64, kernel_size=(3,3), activation='relu', padding='same'))\n",
        "    model.add(BatchNormalization())\n",
        "    model.add(MaxPooling2D(pool_size=(2,2)))    \n",
        "    model.add(Dropout(0.25))\n",
        "    \n",
        "    model.add(Flatten())\n",
        "    \n",
        "    model.add(Dense(128, activation='relu'))\n",
        "    model.add(BatchNormalization())\n",
        "   \n",
        "    model.add(Dense(num_classes, activation='softmax'))\n",
        "    model.compile(optimizer='adam', loss='categorical_crossentropy', metrics=['accuracy'])\n",
        "    return model\n",
        "\n",
        "model = build_model()\n",
        "print(model.summary())"
      ],
      "execution_count": 0,
      "outputs": [
        {
          "output_type": "stream",
          "text": [
            "W0726 10:44:38.196580 140521294198656 deprecation.py:506] From /usr/local/lib/python3.6/dist-packages/keras/backend/tensorflow_backend.py:3445: calling dropout (from tensorflow.python.ops.nn_ops) with keep_prob is deprecated and will be removed in a future version.\n",
            "Instructions for updating:\n",
            "Please use `rate` instead of `keep_prob`. Rate should be set to `rate = 1 - keep_prob`.\n"
          ],
          "name": "stderr"
        },
        {
          "output_type": "stream",
          "text": [
            "_________________________________________________________________\n",
            "Layer (type)                 Output Shape              Param #   \n",
            "=================================================================\n",
            "conv2d_4 (Conv2D)            (None, 28, 28, 32)        320       \n",
            "_________________________________________________________________\n",
            "batch_normalization_5 (Batch (None, 28, 28, 32)        128       \n",
            "_________________________________________________________________\n",
            "max_pooling2d_4 (MaxPooling2 (None, 14, 14, 32)        0         \n",
            "_________________________________________________________________\n",
            "conv2d_5 (Conv2D)            (None, 14, 14, 64)        18496     \n",
            "_________________________________________________________________\n",
            "batch_normalization_6 (Batch (None, 14, 14, 64)        256       \n",
            "_________________________________________________________________\n",
            "max_pooling2d_5 (MaxPooling2 (None, 7, 7, 64)          0         \n",
            "_________________________________________________________________\n",
            "dropout_1 (Dropout)          (None, 7, 7, 64)          0         \n",
            "_________________________________________________________________\n",
            "conv2d_6 (Conv2D)            (None, 7, 7, 64)          36928     \n",
            "_________________________________________________________________\n",
            "batch_normalization_7 (Batch (None, 7, 7, 64)          256       \n",
            "_________________________________________________________________\n",
            "max_pooling2d_6 (MaxPooling2 (None, 3, 3, 64)          0         \n",
            "_________________________________________________________________\n",
            "dropout_2 (Dropout)          (None, 3, 3, 64)          0         \n",
            "_________________________________________________________________\n",
            "flatten_2 (Flatten)          (None, 576)               0         \n",
            "_________________________________________________________________\n",
            "dense_3 (Dense)              (None, 128)               73856     \n",
            "_________________________________________________________________\n",
            "batch_normalization_8 (Batch (None, 128)               512       \n",
            "_________________________________________________________________\n",
            "dense_4 (Dense)              (None, 10)                1290      \n",
            "=================================================================\n",
            "Total params: 132,042\n",
            "Trainable params: 131,466\n",
            "Non-trainable params: 576\n",
            "_________________________________________________________________\n",
            "None\n"
          ],
          "name": "stdout"
        }
      ]
    },
    {
      "cell_type": "code",
      "metadata": {
        "id": "pLuO3jgX3H5U",
        "colab_type": "code",
        "colab": {}
      },
      "source": [
        "# model.compile(loss='categorical_crossentropy',\n",
        "#               optimizer='adam', \n",
        "#               metrics=['accuracy']) "
      ],
      "execution_count": 0,
      "outputs": []
    },
    {
      "cell_type": "code",
      "metadata": {
        "id": "NGUzCpRr3elM",
        "colab_type": "code",
        "outputId": "b0a3b5b1-e6ef-4dc7-a2f8-d1c5b883402b",
        "colab": {
          "base_uri": "https://localhost:8080/",
          "height": 613
        }
      },
      "source": [
        "results = model.fit(X_train2, Y_train2, \n",
        "                    epochs=15, batch_size=128,\n",
        "                    validation_data=(val_data, val_labels))"
      ],
      "execution_count": 0,
      "outputs": [
        {
          "output_type": "stream",
          "text": [
            "Train on 54000 samples, validate on 6000 samples\n",
            "Epoch 1/15\n",
            "54000/54000 [==============================] - 6s 102us/step - loss: 0.1918 - acc: 0.9403 - val_loss: 0.0541 - val_acc: 0.9830\n",
            "Epoch 2/15\n",
            "54000/54000 [==============================] - 4s 82us/step - loss: 0.0596 - acc: 0.9810 - val_loss: 0.0475 - val_acc: 0.9858\n",
            "Epoch 3/15\n",
            "54000/54000 [==============================] - 4s 81us/step - loss: 0.0455 - acc: 0.9855 - val_loss: 0.0358 - val_acc: 0.9887\n",
            "Epoch 4/15\n",
            "54000/54000 [==============================] - 4s 81us/step - loss: 0.0349 - acc: 0.9890 - val_loss: 0.0316 - val_acc: 0.9900\n",
            "Epoch 5/15\n",
            "54000/54000 [==============================] - 4s 81us/step - loss: 0.0319 - acc: 0.9896 - val_loss: 0.0388 - val_acc: 0.9883\n",
            "Epoch 6/15\n",
            "54000/54000 [==============================] - 4s 81us/step - loss: 0.0282 - acc: 0.9907 - val_loss: 0.0305 - val_acc: 0.9927\n",
            "Epoch 7/15\n",
            "54000/54000 [==============================] - 4s 81us/step - loss: 0.0254 - acc: 0.9917 - val_loss: 0.0269 - val_acc: 0.9923\n",
            "Epoch 8/15\n",
            "54000/54000 [==============================] - 4s 81us/step - loss: 0.0225 - acc: 0.9929 - val_loss: 0.0236 - val_acc: 0.9938\n",
            "Epoch 9/15\n",
            "54000/54000 [==============================] - 4s 81us/step - loss: 0.0196 - acc: 0.9937 - val_loss: 0.0242 - val_acc: 0.9928\n",
            "Epoch 10/15\n",
            "54000/54000 [==============================] - 4s 81us/step - loss: 0.0173 - acc: 0.9942 - val_loss: 0.0396 - val_acc: 0.9883\n",
            "Epoch 11/15\n",
            "54000/54000 [==============================] - 4s 82us/step - loss: 0.0153 - acc: 0.9951 - val_loss: 0.0250 - val_acc: 0.9933\n",
            "Epoch 12/15\n",
            "54000/54000 [==============================] - 4s 82us/step - loss: 0.0163 - acc: 0.9944 - val_loss: 0.0249 - val_acc: 0.9932\n",
            "Epoch 13/15\n",
            "54000/54000 [==============================] - 4s 81us/step - loss: 0.0140 - acc: 0.9952 - val_loss: 0.0276 - val_acc: 0.9932\n",
            "Epoch 14/15\n",
            "54000/54000 [==============================] - 4s 81us/step - loss: 0.0131 - acc: 0.9956 - val_loss: 0.0271 - val_acc: 0.9942\n",
            "Epoch 15/15\n",
            "54000/54000 [==============================] - 4s 81us/step - loss: 0.0128 - acc: 0.9958 - val_loss: 0.0241 - val_acc: 0.9925\n"
          ],
          "name": "stdout"
        }
      ]
    },
    {
      "cell_type": "code",
      "metadata": {
        "id": "V3yYkMiD52Zk",
        "colab_type": "code",
        "outputId": "2c7b342b-6320-4ba2-d27b-9b54cede3fa7",
        "colab": {
          "base_uri": "https://localhost:8080/",
          "height": 283
        }
      },
      "source": [
        "history_dict = results.history\n",
        "acc_values = history_dict['acc']\n",
        "val_acc_values = history_dict['val_acc']\n",
        "epochs = range(1, len(acc_values) + 1)\n",
        "plt.plot(epochs, acc_values, 'bo', label='Training acc')\n",
        "plt.plot(epochs, val_acc_values, 'b', label='Validation acc')\n",
        "plt.xlabel('Epochs')\n",
        "plt.ylabel('Accuracy')\n",
        "plt.legend()\n",
        "plt.show()"
      ],
      "execution_count": 0,
      "outputs": [
        {
          "output_type": "display_data",
          "data": {
            "image/png": "[encoded data removed]",
            "text/plain": [
              "<Figure size 432x288 with 1 Axes>"
            ]
          },
          "metadata": {
            "tags": []
          }
        }
      ]
    },
    {
      "cell_type": "code",
      "metadata": {
        "id": "95XYLngJ8_sM",
        "colab_type": "code",
        "outputId": "0c438a44-ee56-47b3-c9f4-33a16322c000",
        "colab": {
          "base_uri": "https://localhost:8080/",
          "height": 283
        }
      },
      "source": [
        "history_dict = results.history\n",
        "loss_values = history_dict['loss']\n",
        "val_loss_values = history_dict['val_loss']\n",
        "epochs = range(1, len(loss_values) + 1)\n",
        "plt.plot(epochs, loss_values, 'bo', label='Training acc')\n",
        "plt.plot(epochs, val_loss_values, 'b', label='Validation acc')\n",
        "plt.xlabel('Epochs')\n",
        "plt.ylabel('loss')\n",
        "plt.legend()\n",
        "plt.show()"
      ],
      "execution_count": 0,
      "outputs": [
        {
          "output_type": "display_data",
          "data": {
            "image/png": "[encoded data removed]",
            "text/plain": [
              "<Figure size 432x288 with 1 Axes>"
            ]
          },
          "metadata": {
            "tags": []
          }
        }
      ]
    },
    {
      "cell_type": "code",
      "metadata": {
        "id": "zwHZlhJn38LM",
        "colab_type": "code",
        "outputId": "9547ad2f-7c6c-450c-a3b9-0312577ad878",
        "colab": {
          "base_uri": "https://localhost:8080/",
          "height": 54
        }
      },
      "source": [
        "rez_loss, rez_acc = model.evaluate(X_test, Y_test, verbose=1) # Evaluate the trained model on the test set!\n",
        "print(rez_loss, rez_acc)"
      ],
      "execution_count": 0,
      "outputs": [
        {
          "output_type": "stream",
          "text": [
            "10000/10000 [==============================] - 1s 81us/step\n",
            "0.026486328473580217 0.9926\n"
          ],
          "name": "stdout"
        }
      ]
    },
    {
      "cell_type": "code",
      "metadata": {
        "id": "8B-vTwHR4L_M",
        "colab_type": "code",
        "outputId": "23a879e2-b1a6-4c05-decd-24eed1c15097",
        "colab": {
          "base_uri": "https://localhost:8080/",
          "height": 36
        }
      },
      "source": [
        "number_pic_p1 = np.expand_dims(number_pic_p, axis=3)\n",
        "rez_pred = model.predict(number_pic_p1)\n",
        "np.argmax(rez_pred)"
      ],
      "execution_count": 0,
      "outputs": [
        {
          "output_type": "execute_result",
          "data": {
            "text/plain": [
              "5"
            ]
          },
          "metadata": {
            "tags": []
          },
          "execution_count": 30
        }
      ]
    }
  ]
}