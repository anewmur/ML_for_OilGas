{
  "nbformat": 4,
  "nbformat_minor": 0,
  "metadata": {
    "colab": {
      "name": "OnevsAll.ipynb",
      "version": "0.3.2",
      "provenance": [],
      "include_colab_link": true
    },
    "kernelspec": {
      "name": "python3",
      "display_name": "Python 3"
    }
  },
  "cells": [
    {
      "cell_type": "markdown",
      "metadata": {
        "id": "view-in-github",
        "colab_type": "text"
      },
      "source": [
        "<a href=\"https://colab.research.google.com/github/anewmur/ML_for_OilGas/blob/master/OnevsAll.ipynb\" target=\"_parent\"><img src=\"https://colab.research.google.com/assets/colab-badge.svg\" alt=\"Open In Colab\"/></a>"
      ]
    },
    {
      "cell_type": "code",
      "metadata": {
        "id": "V11IIb7SGEt_",
        "colab_type": "code",
        "colab": {}
      },
      "source": [
        "from sklearn.datasets import load_digits\n",
        "digits = load_digits()"
      ],
      "execution_count": 0,
      "outputs": []
    },
    {
      "cell_type": "code",
      "metadata": {
        "id": "9qlWdhsFGR9j",
        "colab_type": "code",
        "colab": {}
      },
      "source": [
        "# Print to show there are 1797 images (8 by 8 images for a dimensionality of 64)\n",
        "print(\"Image Data Shape\" , digits.data.shape)\n",
        "\n",
        "# Print to show there are 1797 labels (integers from 0-9)\n",
        "print(\"Label Data Shape\", digits.target.shape)"
      ],
      "execution_count": 0,
      "outputs": []
    },
    {
      "cell_type": "code",
      "metadata": {
        "id": "5u01RLVfGEJC",
        "colab_type": "code",
        "colab": {}
      },
      "source": [
        "import numpy as np \n",
        "import matplotlib.pyplot as plt\n",
        "\n",
        "nen=9\n",
        "\n",
        "plt.figure(figsize=(20,nen-1))\n",
        "for index, (image, label) in enumerate(zip(digits.data[0:nen], digits.target[0:nen])):\n",
        "    plt.subplot(1, nen, index + 1)\n",
        "    plt.imshow(np.reshape(image, (8,8)), cmap=plt.cm.gray)\n",
        "    plt.title('Training: %i\\n' % label, fontsize = 20)"
      ],
      "execution_count": 0,
      "outputs": []
    },
    {
      "cell_type": "code",
      "metadata": {
        "id": "qZFs58XUJUkp",
        "colab_type": "code",
        "colab": {}
      },
      "source": [
        "import numpy as np \n",
        "\n",
        "def sigmoid(x):\n",
        "    return 1/(1+np.exp(-x))\n",
        "\n",
        "def computeCost_reg(theta, X, y, Lambda=1, return_grad = False):\n",
        "\n",
        "    m = len(y) # number of training examples\n",
        "\n",
        "    J=0\n",
        "    grad = np.zeros(theta.shape)\n",
        "    theta0 = np.copy(theta)\n",
        "    theta0[0] = 0\n",
        "\n",
        "    h_theta=sigmoid(np.dot(theta.T, X.T))\n",
        "\n",
        "    left = -y*np.log(h_theta)\n",
        "    right = -(1-y)*np.log(1-h_theta)\n",
        "    rez = left + right\n",
        "    J = 1/m * np.sum(rez) + Lambda/(2*m) * np.dot(theta0.T, theta0)\n",
        "\n",
        "    grad = 1/m*(np.dot(X.T, (h_theta-y).T) + Lambda/m * theta0)\n",
        "    if (return_grad):\n",
        "        return [J, grad]\n",
        "    else:\n",
        "        return J"
      ],
      "execution_count": 0,
      "outputs": []
    },
    {
      "cell_type": "code",
      "metadata": {
        "id": "HfVG9jwuJmsb",
        "colab_type": "code",
        "colab": {}
      },
      "source": [
        "from scipy.optimize import minimize\n",
        "\n",
        "def oneVsAll(X, y, num_labels, Lambda):\n",
        "    m,n = X.shape\n",
        "    all_theta = np.zeros((num_labels, n+1))\n",
        "    X = np.c_[np.ones((m, 1)),X]\n",
        "    initial_theta = np.zeros((n+1, 1))\n",
        "\n",
        "\n",
        "    for c in range(num_labels):\n",
        "        myargs = (X, (y%10==c).astype(int), Lambda, True)\n",
        "        theta = minimize(computeCost_reg, x0=initial_theta, args=myargs, options={'disp': True, 'maxiter':13}, method=\"Newton-CG\", jac=True)\n",
        "        # theta = minimize(computeCost_reg, x0=initial_theta, args=myargs, options={'disp': True, 'maxiter':20}, method=\"CG\", jac=True)\n",
        "        all_theta[c, :] = theta[\"x\"]\n",
        "    return all_theta"
      ],
      "execution_count": 0,
      "outputs": []
    },
    {
      "cell_type": "code",
      "metadata": {
        "id": "15N4HIUFJo-Z",
        "colab_type": "code",
        "colab": {}
      },
      "source": [
        "Lambda = 1\n",
        "input_layer_size = 400\n",
        "num_labels = 10\n",
        "all_theta = oneVsAll(digits.data, digits.target, num_labels, Lambda)"
      ],
      "execution_count": 0,
      "outputs": []
    },
    {
      "cell_type": "code",
      "metadata": {
        "id": "GKMVHQJhJ7fC",
        "colab_type": "code",
        "colab": {}
      },
      "source": [
        "all_theta[:, 0]"
      ],
      "execution_count": 0,
      "outputs": []
    },
    {
      "cell_type": "code",
      "metadata": {
        "id": "hSXhqE8CKDmA",
        "colab_type": "code",
        "colab": {}
      },
      "source": [
        "def predictOneVsAll(all_theta, X):\n",
        "    m,_ = X.shape\n",
        "    num_labels,_ = all_theta.shape\n",
        "    p = np.zeros((m, 1))\n",
        "    X = np.c_[np.ones((m, 1)), X]\n",
        "    p = np.argmax(sigmoid( np.dot(X, all_theta.T) ), axis=1)\n",
        "    return p"
      ],
      "execution_count": 0,
      "outputs": []
    },
    {
      "cell_type": "code",
      "metadata": {
        "id": "Ei9A3gZGKGl7",
        "colab_type": "code",
        "colab": {}
      },
      "source": [
        "pred = predictOneVsAll(all_theta, digits.data)\n",
        "print('Training Set Accuracy: {:f}'.format((np.mean(pred == digits.target)*100)))"
      ],
      "execution_count": 0,
      "outputs": []
    }
  ]
}