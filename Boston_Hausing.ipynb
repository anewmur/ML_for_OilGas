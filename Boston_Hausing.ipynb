{
  "nbformat": 4,
  "nbformat_minor": 0,
  "metadata": {
    "colab": {
      "name": "Boston Hausing.ipynb",
      "version": "0.3.2",
      "provenance": [],
      "include_colab_link": true
    },
    "kernelspec": {
      "name": "python3",
      "display_name": "Python 3"
    }
  },
  "cells": [
    {
      "cell_type": "markdown",
      "metadata": {
        "id": "view-in-github",
        "colab_type": "text"
      },
      "source": [
        "<a href=\"https://colab.research.google.com/github/anewmur/ML_for_OilGas/blob/master/Boston_Hausing.ipynb\" target=\"_parent\"><img src=\"https://colab.research.google.com/assets/colab-badge.svg\" alt=\"Open In Colab\"/></a>"
      ]
    },
    {
      "cell_type": "markdown",
      "metadata": {
        "id": "mnNrxZDT7a5D",
        "colab_type": "text"
      },
      "source": [
        "https://www.cs.toronto.edu/~delve/data/boston/bostonDetail.html"
      ]
    },
    {
      "cell_type": "code",
      "metadata": {
        "id": "bqpfjuU-3dAw",
        "colab_type": "code",
        "outputId": "3d2ad537-ff80-412c-e4fa-0924a0c24ca4",
        "colab": {
          "base_uri": "https://localhost:8080/",
          "height": 36
        }
      },
      "source": [
        "import numpy as np\n",
        "import keras\n",
        "from keras import models\n",
        "from keras import layers\n",
        "from keras.datasets import boston_housing"
      ],
      "execution_count": 0,
      "outputs": [
        {
          "output_type": "stream",
          "text": [
            "Using TensorFlow backend.\n"
          ],
          "name": "stderr"
        }
      ]
    },
    {
      "cell_type": "code",
      "metadata": {
        "id": "M4Z7xb3M3mPu",
        "colab_type": "code",
        "outputId": "761a1eb4-603d-4d2a-f5db-8d3e5aaa8dff",
        "colab": {
          "base_uri": "https://localhost:8080/",
          "height": 147
        }
      },
      "source": [
        "(X_train, y_train), (X_test, y_test) = boston_housing.load_data()\n",
        "\n",
        "print(f'Training data : {X_train.shape}')\n",
        "print(f'Test data : {X_test.shape}')\n",
        "print(f'Training sample : {X_train[0]}')\n",
        "print(f'Training target sample : {y_train[0]}')"
      ],
      "execution_count": 0,
      "outputs": [
        {
          "output_type": "stream",
          "text": [
            "Downloading data from https://s3.amazonaws.com/keras-datasets/boston_housing.npz\n",
            "57344/57026 [==============================] - 0s 0us/step\n",
            "Training data : (404, 13)\n",
            "Test data : (102, 13)\n",
            "Training sample : [  1.23247   0.        8.14      0.        0.538     6.142    91.7\n",
            "   3.9769    4.      307.       21.      396.9      18.72   ]\n",
            "Training target sample : 15.2\n"
          ],
          "name": "stdout"
        }
      ]
    },
    {
      "cell_type": "code",
      "metadata": {
        "id": "suBAtBo54-uE",
        "colab_type": "code",
        "colab": {}
      },
      "source": [
        "X=np.concatenate((X_train, X_test), axis=0)\n",
        "Y=np.concatenate((y_train, y_test), axis=0)\n",
        "\n",
        "mean=X.mean(axis=0)\n",
        "std=X.std(axis=0)\n",
        "\n",
        "X_train -= mean\n",
        "X_train /= std\n",
        "X_test -= mean\n",
        "X_test /= std\n"
      ],
      "execution_count": 0,
      "outputs": []
    },
    {
      "cell_type": "code",
      "metadata": {
        "id": "g_Gskd3Y5DEE",
        "colab_type": "code",
        "outputId": "43b2c32b-f573-4df0-d5eb-b05dbf03972e",
        "colab": {
          "base_uri": "https://localhost:8080/",
          "height": 204
        }
      },
      "source": [
        "model = models.Sequential()\n",
        "model.add(layers.Dense(64, activation='relu', input_shape=(X_train.shape[1],)))\n",
        "model.add(layers.Dense(64, activation='relu'))\n",
        "model.add(layers.Dense(1))\n",
        "\n",
        "model.compile(optimizer='rmsprop',\n",
        "          loss='mse',\n",
        "          metrics=['mae'])"
      ],
      "execution_count": 0,
      "outputs": [
        {
          "output_type": "stream",
          "text": [
            "WARNING: Logging before flag parsing goes to stderr.\n",
            "W0726 08:25:13.058417 140684734273408 deprecation_wrapper.py:119] From /usr/local/lib/python3.6/dist-packages/keras/backend/tensorflow_backend.py:74: The name tf.get_default_graph is deprecated. Please use tf.compat.v1.get_default_graph instead.\n",
            "\n",
            "W0726 08:25:13.106977 140684734273408 deprecation_wrapper.py:119] From /usr/local/lib/python3.6/dist-packages/keras/backend/tensorflow_backend.py:517: The name tf.placeholder is deprecated. Please use tf.compat.v1.placeholder instead.\n",
            "\n",
            "W0726 08:25:13.118685 140684734273408 deprecation_wrapper.py:119] From /usr/local/lib/python3.6/dist-packages/keras/backend/tensorflow_backend.py:4138: The name tf.random_uniform is deprecated. Please use tf.random.uniform instead.\n",
            "\n",
            "W0726 08:25:13.165700 140684734273408 deprecation_wrapper.py:119] From /usr/local/lib/python3.6/dist-packages/keras/optimizers.py:790: The name tf.train.Optimizer is deprecated. Please use tf.compat.v1.train.Optimizer instead.\n",
            "\n"
          ],
          "name": "stderr"
        }
      ]
    },
    {
      "cell_type": "code",
      "metadata": {
        "id": "BBvmyaWX4IpP",
        "colab_type": "code",
        "outputId": "ee8b42e5-381a-44ad-bbd2-828f09d64c5d",
        "colab": {
          "base_uri": "https://localhost:8080/",
          "height": 1000
        }
      },
      "source": [
        "model.fit(X_train, y_train, batch_size=1, epochs=50, verbose=1);\n"
      ],
      "execution_count": 0,
      "outputs": [
        {
          "output_type": "stream",
          "text": [
            "W0726 08:25:19.189672 140684734273408 deprecation_wrapper.py:119] From /usr/local/lib/python3.6/dist-packages/keras/backend/tensorflow_backend.py:986: The name tf.assign_add is deprecated. Please use tf.compat.v1.assign_add instead.\n",
            "\n",
            "W0726 08:25:19.199465 140684734273408 deprecation_wrapper.py:119] From /usr/local/lib/python3.6/dist-packages/keras/backend/tensorflow_backend.py:973: The name tf.assign is deprecated. Please use tf.compat.v1.assign instead.\n",
            "\n"
          ],
          "name": "stderr"
        },
        {
          "output_type": "stream",
          "text": [
            "Epoch 1/50\n",
            "404/404 [==============================] - 1s 3ms/step - loss: 181.3317 - mean_absolute_error: 9.5866\n",
            "Epoch 2/50\n",
            "404/404 [==============================] - 0s 991us/step - loss: 25.0844 - mean_absolute_error: 3.4111\n",
            "Epoch 3/50\n",
            "404/404 [==============================] - 0s 995us/step - loss: 17.9423 - mean_absolute_error: 2.9094\n",
            "Epoch 4/50\n",
            "404/404 [==============================] - 0s 967us/step - loss: 16.3009 - mean_absolute_error: 2.6571\n",
            "Epoch 5/50\n",
            "404/404 [==============================] - 0s 952us/step - loss: 14.2667 - mean_absolute_error: 2.4806\n",
            "Epoch 6/50\n",
            "404/404 [==============================] - 0s 959us/step - loss: 12.9695 - mean_absolute_error: 2.4124\n",
            "Epoch 7/50\n",
            "404/404 [==============================] - 0s 980us/step - loss: 12.2041 - mean_absolute_error: 2.3623\n",
            "Epoch 8/50\n",
            "404/404 [==============================] - 0s 951us/step - loss: 11.8141 - mean_absolute_error: 2.2827\n",
            "Epoch 9/50\n",
            "404/404 [==============================] - 0s 987us/step - loss: 11.4466 - mean_absolute_error: 2.2344\n",
            "Epoch 10/50\n",
            "404/404 [==============================] - 0s 981us/step - loss: 10.6456 - mean_absolute_error: 2.1697\n",
            "Epoch 11/50\n",
            "404/404 [==============================] - 0s 975us/step - loss: 10.4743 - mean_absolute_error: 2.1350\n",
            "Epoch 12/50\n",
            "404/404 [==============================] - 0s 953us/step - loss: 10.1790 - mean_absolute_error: 2.1741\n",
            "Epoch 13/50\n",
            "404/404 [==============================] - 0s 956us/step - loss: 10.0176 - mean_absolute_error: 2.1486\n",
            "Epoch 14/50\n",
            "404/404 [==============================] - 0s 1ms/step - loss: 10.0213 - mean_absolute_error: 2.0376\n",
            "Epoch 15/50\n",
            "404/404 [==============================] - 0s 997us/step - loss: 9.3711 - mean_absolute_error: 2.0453\n",
            "Epoch 16/50\n",
            "404/404 [==============================] - 0s 1ms/step - loss: 9.0575 - mean_absolute_error: 1.9967\n",
            "Epoch 17/50\n",
            "404/404 [==============================] - 0s 988us/step - loss: 8.9261 - mean_absolute_error: 2.0005\n",
            "Epoch 18/50\n",
            "404/404 [==============================] - 0s 1ms/step - loss: 8.8689 - mean_absolute_error: 1.9526\n",
            "Epoch 19/50\n",
            "404/404 [==============================] - 0s 1ms/step - loss: 8.7025 - mean_absolute_error: 1.9618\n",
            "Epoch 20/50\n",
            "404/404 [==============================] - 0s 990us/step - loss: 8.3168 - mean_absolute_error: 1.8832\n",
            "Epoch 21/50\n",
            "404/404 [==============================] - 0s 989us/step - loss: 8.5930 - mean_absolute_error: 1.9715\n",
            "Epoch 22/50\n",
            "404/404 [==============================] - 0s 976us/step - loss: 8.3111 - mean_absolute_error: 1.9074\n",
            "Epoch 23/50\n",
            "404/404 [==============================] - 0s 985us/step - loss: 8.0962 - mean_absolute_error: 1.8851\n",
            "Epoch 24/50\n",
            "404/404 [==============================] - 0s 990us/step - loss: 8.4886 - mean_absolute_error: 1.9325\n",
            "Epoch 25/50\n",
            "404/404 [==============================] - 0s 954us/step - loss: 8.0330 - mean_absolute_error: 1.8442\n",
            "Epoch 26/50\n",
            "404/404 [==============================] - 0s 982us/step - loss: 7.7368 - mean_absolute_error: 1.8137\n",
            "Epoch 27/50\n",
            "404/404 [==============================] - 0s 993us/step - loss: 7.5234 - mean_absolute_error: 1.7927\n",
            "Epoch 28/50\n",
            "404/404 [==============================] - 0s 978us/step - loss: 7.6469 - mean_absolute_error: 1.8819\n",
            "Epoch 29/50\n",
            "404/404 [==============================] - 0s 982us/step - loss: 7.6013 - mean_absolute_error: 1.8337\n",
            "Epoch 30/50\n",
            "404/404 [==============================] - 0s 996us/step - loss: 7.5294 - mean_absolute_error: 1.8156\n",
            "Epoch 31/50\n",
            "404/404 [==============================] - 0s 968us/step - loss: 7.3042 - mean_absolute_error: 1.7349\n",
            "Epoch 32/50\n",
            "404/404 [==============================] - 0s 997us/step - loss: 6.9508 - mean_absolute_error: 1.7610\n",
            "Epoch 33/50\n",
            "404/404 [==============================] - 0s 980us/step - loss: 7.4927 - mean_absolute_error: 1.8272\n",
            "Epoch 34/50\n",
            "404/404 [==============================] - 0s 1ms/step - loss: 6.8935 - mean_absolute_error: 1.7055\n",
            "Epoch 35/50\n",
            "404/404 [==============================] - 0s 988us/step - loss: 6.9682 - mean_absolute_error: 1.7881\n",
            "Epoch 36/50\n",
            "404/404 [==============================] - 0s 972us/step - loss: 6.8216 - mean_absolute_error: 1.7537\n",
            "Epoch 37/50\n",
            "404/404 [==============================] - 0s 996us/step - loss: 6.9126 - mean_absolute_error: 1.7512\n",
            "Epoch 38/50\n",
            "404/404 [==============================] - 0s 985us/step - loss: 6.8426 - mean_absolute_error: 1.7008\n",
            "Epoch 39/50\n",
            "404/404 [==============================] - 0s 987us/step - loss: 6.2275 - mean_absolute_error: 1.6955\n",
            "Epoch 40/50\n",
            "404/404 [==============================] - 0s 1ms/step - loss: 6.6777 - mean_absolute_error: 1.7016\n",
            "Epoch 41/50\n",
            "404/404 [==============================] - 0s 983us/step - loss: 6.2957 - mean_absolute_error: 1.6783\n",
            "Epoch 42/50\n",
            "404/404 [==============================] - 0s 987us/step - loss: 6.5597 - mean_absolute_error: 1.6950\n",
            "Epoch 43/50\n",
            "404/404 [==============================] - 0s 992us/step - loss: 5.8348 - mean_absolute_error: 1.6770\n",
            "Epoch 44/50\n",
            "404/404 [==============================] - 0s 1ms/step - loss: 6.1191 - mean_absolute_error: 1.6930\n",
            "Epoch 45/50\n",
            "404/404 [==============================] - 0s 957us/step - loss: 6.1789 - mean_absolute_error: 1.6471\n",
            "Epoch 46/50\n",
            "404/404 [==============================] - 0s 980us/step - loss: 5.9722 - mean_absolute_error: 1.6514\n",
            "Epoch 47/50\n",
            "404/404 [==============================] - 0s 988us/step - loss: 6.1445 - mean_absolute_error: 1.6614\n",
            "Epoch 48/50\n",
            "404/404 [==============================] - 0s 977us/step - loss: 5.7701 - mean_absolute_error: 1.6269\n",
            "Epoch 49/50\n",
            "404/404 [==============================] - 0s 980us/step - loss: 5.9746 - mean_absolute_error: 1.6176\n",
            "Epoch 50/50\n",
            "404/404 [==============================] - 0s 984us/step - loss: 5.4101 - mean_absolute_error: 1.5476\n"
          ],
          "name": "stdout"
        }
      ]
    },
    {
      "cell_type": "markdown",
      "metadata": {
        "id": "ulP3f1FFZYnv",
        "colab_type": "text"
      },
      "source": [
        ""
      ]
    },
    {
      "cell_type": "code",
      "metadata": {
        "id": "argosy4T_fPh",
        "colab_type": "code",
        "outputId": "7d71a64e-a301-4c4e-8e77-80ca3fdd7eaf",
        "colab": {
          "base_uri": "https://localhost:8080/",
          "height": 110
        }
      },
      "source": [
        "mse, mae = model.evaluate(X_test, y_test, verbose=0)\n",
        "\n",
        "print('Test score:', mse)\n",
        "print('Test accuracy:', mae)\n",
        "\n",
        "pred=model.predict(X_test)\n",
        "\n",
        "print(pred[1][0],y_test[1])\n",
        "print(pred[50][0],y_test[50])\n",
        "print(pred[100][0],y_test[100])"
      ],
      "execution_count": 0,
      "outputs": [
        {
          "output_type": "stream",
          "text": [
            "Test score: 12.876587512446385\n",
            "Test accuracy: 2.3186994159922882\n",
            "18.612492 18.8\n",
            "36.255474 35.4\n",
            "27.897432 26.7\n"
          ],
          "name": "stdout"
        }
      ]
    }
  ]
}