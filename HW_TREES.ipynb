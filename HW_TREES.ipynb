{
  "nbformat": 4,
  "nbformat_minor": 0,
  "metadata": {
    "colab": {
      "name": "HW_2_TREES.ipynb",
      "version": "0.3.2",
      "provenance": [],
      "include_colab_link": true
    },
    "kernelspec": {
      "name": "python3",
      "display_name": "Python 3"
    }
  },
  "cells": [
    {
      "cell_type": "markdown",
      "metadata": {
        "id": "view-in-github",
        "colab_type": "text"
      },
      "source": [
        "<a href=\"https://colab.research.google.com/github/anewmur/ML_for_OilGas/blob/master/HW_TREES.ipynb\" target=\"_parent\"><img src=\"https://colab.research.google.com/assets/colab-badge.svg\" alt=\"Open In Colab\"/></a>"
      ]
    },
    {
      "cell_type": "markdown",
      "metadata": {
        "id": "tQm-xPX4mA8-",
        "colab_type": "text"
      },
      "source": [
        "https://colab.research.google.com/drive/15xeAk2yyLkeUIsYVmrWDgAHGgSwiz1fp"
      ]
    },
    {
      "cell_type": "markdown",
      "metadata": {
        "id": "_xR_OfCOmplm",
        "colab_type": "text"
      },
      "source": [
        "Let's start by loading all necessary libraries:"
      ]
    },
    {
      "cell_type": "code",
      "metadata": {
        "id": "YTw07Sgkms7Z",
        "colab_type": "code",
        "colab": {}
      },
      "source": [
        "from matplotlib import pyplot as plt\n",
        "plt.rcParams['figure.figsize'] = (10, 8)\n",
        "import seaborn as sns\n",
        "import numpy as np\n",
        "import pandas as pd\n",
        "from sklearn.preprocessing import LabelEncoder\n",
        "import collections\n",
        "from sklearn.model_selection import GridSearchCV\n",
        "from sklearn import preprocessing\n",
        "from sklearn.tree import DecisionTreeClassifier, export_graphviz\n",
        "from sklearn.ensemble import RandomForestClassifier\n",
        "from sklearn.metrics import accuracy_score\n",
        "from ipywidgets import Image\n",
        "from io import StringIO\n",
        "import pydotplus "
      ],
      "execution_count": 0,
      "outputs": []
    },
    {
      "cell_type": "markdown",
      "metadata": {
        "id": "nMo3D_LXm1yr",
        "colab_type": "text"
      },
      "source": [
        "## Toy dataset \"Will They? Won't They? \n",
        "\n",
        "Your goal is to figure out how decision trees work by walking through a toy problem. While a single decision tree does not yield outstanding results, other performant algorithms like gradient boosting and random forests are based on the same idea. That is why knowing how decision trees work might be useful.\n",
        "\n",
        "We'll go through a toy example of binary classification - Person A is deciding whether they will go on a second date with Person B. It will depend on their looks, eloquence, alcohol consumption (only for example), and how much money was spent on the first date."
      ]
    },
    {
      "cell_type": "markdown",
      "metadata": {
        "id": "Ecz9fqJhnOJo",
        "colab_type": "text"
      },
      "source": [
        "**Creating the dataset**"
      ]
    },
    {
      "cell_type": "code",
      "metadata": {
        "id": "AmP8_wHTm1Kl",
        "colab_type": "code",
        "colab": {}
      },
      "source": [
        "# Create dataframe with dummy variables\n",
        "def create_df(dic, feature_list):\n",
        "    out = pd.DataFrame(dic)\n",
        "    out = pd.concat([out, pd.get_dummies(out[feature_list])], axis = 1)\n",
        "    out.drop(feature_list, axis = 1, inplace = True)\n",
        "    return out\n",
        "\n",
        "# Some feature values are present in train and absent in test and vice-versa.\n",
        "def intersect_features(train, test):\n",
        "    common_feat = list( set(train.keys()) & set(test.keys()))\n",
        "    return train[common_feat], test[common_feat]"
      ],
      "execution_count": 0,
      "outputs": []
    },
    {
      "cell_type": "code",
      "metadata": {
        "id": "uU02CD8TnTFi",
        "colab_type": "code",
        "colab": {}
      },
      "source": [
        "features = ['Looks', 'Alcoholic_beverage','Eloquence','Money_spent']"
      ],
      "execution_count": 0,
      "outputs": []
    },
    {
      "cell_type": "markdown",
      "metadata": {
        "id": "l9Hd9VqXncOS",
        "colab_type": "text"
      },
      "source": [
        "**Training data**"
      ]
    },
    {
      "cell_type": "code",
      "metadata": {
        "id": "GYOpYe2lnePJ",
        "colab_type": "code",
        "outputId": "a6c0e0c8-a1d3-4bb6-bbc7-0f0951891563",
        "colab": {
          "base_uri": "https://localhost:8080/",
          "height": 252
        }
      },
      "source": [
        "df_train = {}\n",
        "df_train['Looks'] = ['handsome', 'handsome', 'handsome', 'repulsive',\n",
        "                         'repulsive', 'repulsive', 'handsome'] \n",
        "df_train['Alcoholic_beverage'] = ['yes', 'yes', 'no', 'no', 'yes', 'yes', 'yes']\n",
        "df_train['Eloquence'] = ['high', 'low', 'average', 'average', 'low',\n",
        "                                   'high', 'average']\n",
        "df_train['Money_spent'] = ['lots', 'little', 'lots', 'little', 'lots',\n",
        "                                  'lots', 'lots']\n",
        "df_train['Will_go'] = LabelEncoder().fit_transform(['+', '-', '+', '-', '-', '+', '+'])\n",
        "\n",
        "df_train = create_df(df_train, features)\n",
        "df_train"
      ],
      "execution_count": 0,
      "outputs": [
        {
          "output_type": "execute_result",
          "data": {
            "text/html": [
              "<div>\n",
              "<style scoped>\n",
              "    .dataframe tbody tr th:only-of-type {\n",
              "        vertical-align: middle;\n",
              "    }\n",
              "\n",
              "    .dataframe tbody tr th {\n",
              "        vertical-align: top;\n",
              "    }\n",
              "\n",
              "    .dataframe thead th {\n",
              "        text-align: right;\n",
              "    }\n",
              "</style>\n",
              "<table border=\"1\" class=\"dataframe\">\n",
              "  <thead>\n",
              "    <tr style=\"text-align: right;\">\n",
              "      <th></th>\n",
              "      <th>Will_go</th>\n",
              "      <th>Looks_handsome</th>\n",
              "      <th>Looks_repulsive</th>\n",
              "      <th>Alcoholic_beverage_no</th>\n",
              "      <th>Alcoholic_beverage_yes</th>\n",
              "      <th>Eloquence_average</th>\n",
              "      <th>Eloquence_high</th>\n",
              "      <th>Eloquence_low</th>\n",
              "      <th>Money_spent_little</th>\n",
              "      <th>Money_spent_lots</th>\n",
              "    </tr>\n",
              "  </thead>\n",
              "  <tbody>\n",
              "    <tr>\n",
              "      <th>0</th>\n",
              "      <td>0</td>\n",
              "      <td>1</td>\n",
              "      <td>0</td>\n",
              "      <td>0</td>\n",
              "      <td>1</td>\n",
              "      <td>0</td>\n",
              "      <td>1</td>\n",
              "      <td>0</td>\n",
              "      <td>0</td>\n",
              "      <td>1</td>\n",
              "    </tr>\n",
              "    <tr>\n",
              "      <th>1</th>\n",
              "      <td>1</td>\n",
              "      <td>1</td>\n",
              "      <td>0</td>\n",
              "      <td>0</td>\n",
              "      <td>1</td>\n",
              "      <td>0</td>\n",
              "      <td>0</td>\n",
              "      <td>1</td>\n",
              "      <td>1</td>\n",
              "      <td>0</td>\n",
              "    </tr>\n",
              "    <tr>\n",
              "      <th>2</th>\n",
              "      <td>0</td>\n",
              "      <td>1</td>\n",
              "      <td>0</td>\n",
              "      <td>1</td>\n",
              "      <td>0</td>\n",
              "      <td>1</td>\n",
              "      <td>0</td>\n",
              "      <td>0</td>\n",
              "      <td>0</td>\n",
              "      <td>1</td>\n",
              "    </tr>\n",
              "    <tr>\n",
              "      <th>3</th>\n",
              "      <td>1</td>\n",
              "      <td>0</td>\n",
              "      <td>1</td>\n",
              "      <td>1</td>\n",
              "      <td>0</td>\n",
              "      <td>1</td>\n",
              "      <td>0</td>\n",
              "      <td>0</td>\n",
              "      <td>1</td>\n",
              "      <td>0</td>\n",
              "    </tr>\n",
              "    <tr>\n",
              "      <th>4</th>\n",
              "      <td>1</td>\n",
              "      <td>0</td>\n",
              "      <td>1</td>\n",
              "      <td>0</td>\n",
              "      <td>1</td>\n",
              "      <td>0</td>\n",
              "      <td>0</td>\n",
              "      <td>1</td>\n",
              "      <td>0</td>\n",
              "      <td>1</td>\n",
              "    </tr>\n",
              "    <tr>\n",
              "      <th>5</th>\n",
              "      <td>0</td>\n",
              "      <td>0</td>\n",
              "      <td>1</td>\n",
              "      <td>0</td>\n",
              "      <td>1</td>\n",
              "      <td>0</td>\n",
              "      <td>1</td>\n",
              "      <td>0</td>\n",
              "      <td>0</td>\n",
              "      <td>1</td>\n",
              "    </tr>\n",
              "    <tr>\n",
              "      <th>6</th>\n",
              "      <td>0</td>\n",
              "      <td>1</td>\n",
              "      <td>0</td>\n",
              "      <td>0</td>\n",
              "      <td>1</td>\n",
              "      <td>1</td>\n",
              "      <td>0</td>\n",
              "      <td>0</td>\n",
              "      <td>0</td>\n",
              "      <td>1</td>\n",
              "    </tr>\n",
              "  </tbody>\n",
              "</table>\n",
              "</div>"
            ],
            "text/plain": [
              "   Will_go  Looks_handsome  ...  Money_spent_little  Money_spent_lots\n",
              "0        0               1  ...                   0                 1\n",
              "1        1               1  ...                   1                 0\n",
              "2        0               1  ...                   0                 1\n",
              "3        1               0  ...                   1                 0\n",
              "4        1               0  ...                   0                 1\n",
              "5        0               0  ...                   0                 1\n",
              "6        0               1  ...                   0                 1\n",
              "\n",
              "[7 rows x 10 columns]"
            ]
          },
          "metadata": {
            "tags": []
          },
          "execution_count": 26
        }
      ]
    },
    {
      "cell_type": "markdown",
      "metadata": {
        "id": "-r2kKDcEni22",
        "colab_type": "text"
      },
      "source": [
        "**Test data**"
      ]
    },
    {
      "cell_type": "code",
      "metadata": {
        "id": "dme9h4KWnhE5",
        "colab_type": "code",
        "outputId": "ac2b2dd2-21b1-447c-b98a-2001d2a7a039",
        "colab": {
          "base_uri": "https://localhost:8080/",
          "height": 135
        }
      },
      "source": [
        "df_test = {}\n",
        "df_test['Looks'] = ['handsome', 'handsome', 'repulsive'] \n",
        "df_test['Alcoholic_beverage'] = ['no', 'yes', 'yes']\n",
        "df_test['Eloquence'] = ['average', 'high', 'average']\n",
        "df_test['Money_spent'] = ['lots', 'little', 'lots']\n",
        "df_test = create_df(df_test, features)\n",
        "df_test"
      ],
      "execution_count": 0,
      "outputs": [
        {
          "output_type": "execute_result",
          "data": {
            "text/html": [
              "<div>\n",
              "<style scoped>\n",
              "    .dataframe tbody tr th:only-of-type {\n",
              "        vertical-align: middle;\n",
              "    }\n",
              "\n",
              "    .dataframe tbody tr th {\n",
              "        vertical-align: top;\n",
              "    }\n",
              "\n",
              "    .dataframe thead th {\n",
              "        text-align: right;\n",
              "    }\n",
              "</style>\n",
              "<table border=\"1\" class=\"dataframe\">\n",
              "  <thead>\n",
              "    <tr style=\"text-align: right;\">\n",
              "      <th></th>\n",
              "      <th>Looks_handsome</th>\n",
              "      <th>Looks_repulsive</th>\n",
              "      <th>Alcoholic_beverage_no</th>\n",
              "      <th>Alcoholic_beverage_yes</th>\n",
              "      <th>Eloquence_average</th>\n",
              "      <th>Eloquence_high</th>\n",
              "      <th>Money_spent_little</th>\n",
              "      <th>Money_spent_lots</th>\n",
              "    </tr>\n",
              "  </thead>\n",
              "  <tbody>\n",
              "    <tr>\n",
              "      <th>0</th>\n",
              "      <td>1</td>\n",
              "      <td>0</td>\n",
              "      <td>1</td>\n",
              "      <td>0</td>\n",
              "      <td>1</td>\n",
              "      <td>0</td>\n",
              "      <td>0</td>\n",
              "      <td>1</td>\n",
              "    </tr>\n",
              "    <tr>\n",
              "      <th>1</th>\n",
              "      <td>1</td>\n",
              "      <td>0</td>\n",
              "      <td>0</td>\n",
              "      <td>1</td>\n",
              "      <td>0</td>\n",
              "      <td>1</td>\n",
              "      <td>1</td>\n",
              "      <td>0</td>\n",
              "    </tr>\n",
              "    <tr>\n",
              "      <th>2</th>\n",
              "      <td>0</td>\n",
              "      <td>1</td>\n",
              "      <td>0</td>\n",
              "      <td>1</td>\n",
              "      <td>1</td>\n",
              "      <td>0</td>\n",
              "      <td>0</td>\n",
              "      <td>1</td>\n",
              "    </tr>\n",
              "  </tbody>\n",
              "</table>\n",
              "</div>"
            ],
            "text/plain": [
              "   Looks_handsome  Looks_repulsive  ...  Money_spent_little  Money_spent_lots\n",
              "0               1                0  ...                   0                 1\n",
              "1               1                0  ...                   1                 0\n",
              "2               0                1  ...                   0                 1\n",
              "\n",
              "[3 rows x 8 columns]"
            ]
          },
          "metadata": {
            "tags": []
          },
          "execution_count": 27
        }
      ]
    },
    {
      "cell_type": "code",
      "metadata": {
        "id": "iX975A0Enyn4",
        "colab_type": "code",
        "outputId": "70d525f3-f6cc-4d24-8f84-83bc07403e8c",
        "colab": {
          "base_uri": "https://localhost:8080/",
          "height": 252
        }
      },
      "source": [
        "# Some feature values are present in train and absent in test and vice-versa.\n",
        "y = df_train['Will_go']\n",
        "df_train, df_test = intersect_features(train=df_train, test=df_test)\n",
        "df_train"
      ],
      "execution_count": 0,
      "outputs": [
        {
          "output_type": "execute_result",
          "data": {
            "text/html": [
              "<div>\n",
              "<style scoped>\n",
              "    .dataframe tbody tr th:only-of-type {\n",
              "        vertical-align: middle;\n",
              "    }\n",
              "\n",
              "    .dataframe tbody tr th {\n",
              "        vertical-align: top;\n",
              "    }\n",
              "\n",
              "    .dataframe thead th {\n",
              "        text-align: right;\n",
              "    }\n",
              "</style>\n",
              "<table border=\"1\" class=\"dataframe\">\n",
              "  <thead>\n",
              "    <tr style=\"text-align: right;\">\n",
              "      <th></th>\n",
              "      <th>Money_spent_lots</th>\n",
              "      <th>Money_spent_little</th>\n",
              "      <th>Looks_repulsive</th>\n",
              "      <th>Eloquence_high</th>\n",
              "      <th>Alcoholic_beverage_no</th>\n",
              "      <th>Looks_handsome</th>\n",
              "      <th>Alcoholic_beverage_yes</th>\n",
              "      <th>Eloquence_average</th>\n",
              "    </tr>\n",
              "  </thead>\n",
              "  <tbody>\n",
              "    <tr>\n",
              "      <th>0</th>\n",
              "      <td>1</td>\n",
              "      <td>0</td>\n",
              "      <td>0</td>\n",
              "      <td>1</td>\n",
              "      <td>0</td>\n",
              "      <td>1</td>\n",
              "      <td>1</td>\n",
              "      <td>0</td>\n",
              "    </tr>\n",
              "    <tr>\n",
              "      <th>1</th>\n",
              "      <td>0</td>\n",
              "      <td>1</td>\n",
              "      <td>0</td>\n",
              "      <td>0</td>\n",
              "      <td>0</td>\n",
              "      <td>1</td>\n",
              "      <td>1</td>\n",
              "      <td>0</td>\n",
              "    </tr>\n",
              "    <tr>\n",
              "      <th>2</th>\n",
              "      <td>1</td>\n",
              "      <td>0</td>\n",
              "      <td>0</td>\n",
              "      <td>0</td>\n",
              "      <td>1</td>\n",
              "      <td>1</td>\n",
              "      <td>0</td>\n",
              "      <td>1</td>\n",
              "    </tr>\n",
              "    <tr>\n",
              "      <th>3</th>\n",
              "      <td>0</td>\n",
              "      <td>1</td>\n",
              "      <td>1</td>\n",
              "      <td>0</td>\n",
              "      <td>1</td>\n",
              "      <td>0</td>\n",
              "      <td>0</td>\n",
              "      <td>1</td>\n",
              "    </tr>\n",
              "    <tr>\n",
              "      <th>4</th>\n",
              "      <td>1</td>\n",
              "      <td>0</td>\n",
              "      <td>1</td>\n",
              "      <td>0</td>\n",
              "      <td>0</td>\n",
              "      <td>0</td>\n",
              "      <td>1</td>\n",
              "      <td>0</td>\n",
              "    </tr>\n",
              "    <tr>\n",
              "      <th>5</th>\n",
              "      <td>1</td>\n",
              "      <td>0</td>\n",
              "      <td>1</td>\n",
              "      <td>1</td>\n",
              "      <td>0</td>\n",
              "      <td>0</td>\n",
              "      <td>1</td>\n",
              "      <td>0</td>\n",
              "    </tr>\n",
              "    <tr>\n",
              "      <th>6</th>\n",
              "      <td>1</td>\n",
              "      <td>0</td>\n",
              "      <td>0</td>\n",
              "      <td>0</td>\n",
              "      <td>0</td>\n",
              "      <td>1</td>\n",
              "      <td>1</td>\n",
              "      <td>1</td>\n",
              "    </tr>\n",
              "  </tbody>\n",
              "</table>\n",
              "</div>"
            ],
            "text/plain": [
              "   Money_spent_lots  ...  Eloquence_average\n",
              "0                 1  ...                  0\n",
              "1                 0  ...                  0\n",
              "2                 1  ...                  1\n",
              "3                 0  ...                  1\n",
              "4                 1  ...                  0\n",
              "5                 1  ...                  0\n",
              "6                 1  ...                  1\n",
              "\n",
              "[7 rows x 8 columns]"
            ]
          },
          "metadata": {
            "tags": []
          },
          "execution_count": 28
        }
      ]
    },
    {
      "cell_type": "code",
      "metadata": {
        "id": "6Qtkjpc3p4ml",
        "colab_type": "code",
        "outputId": "ae5f4e12-64c4-4218-cc4c-85a3985e3c45",
        "colab": {
          "base_uri": "https://localhost:8080/",
          "height": 135
        }
      },
      "source": [
        "df_test"
      ],
      "execution_count": 0,
      "outputs": [
        {
          "output_type": "execute_result",
          "data": {
            "text/html": [
              "<div>\n",
              "<style scoped>\n",
              "    .dataframe tbody tr th:only-of-type {\n",
              "        vertical-align: middle;\n",
              "    }\n",
              "\n",
              "    .dataframe tbody tr th {\n",
              "        vertical-align: top;\n",
              "    }\n",
              "\n",
              "    .dataframe thead th {\n",
              "        text-align: right;\n",
              "    }\n",
              "</style>\n",
              "<table border=\"1\" class=\"dataframe\">\n",
              "  <thead>\n",
              "    <tr style=\"text-align: right;\">\n",
              "      <th></th>\n",
              "      <th>Money_spent_lots</th>\n",
              "      <th>Money_spent_little</th>\n",
              "      <th>Looks_repulsive</th>\n",
              "      <th>Eloquence_high</th>\n",
              "      <th>Alcoholic_beverage_no</th>\n",
              "      <th>Looks_handsome</th>\n",
              "      <th>Alcoholic_beverage_yes</th>\n",
              "      <th>Eloquence_average</th>\n",
              "    </tr>\n",
              "  </thead>\n",
              "  <tbody>\n",
              "    <tr>\n",
              "      <th>0</th>\n",
              "      <td>1</td>\n",
              "      <td>0</td>\n",
              "      <td>0</td>\n",
              "      <td>0</td>\n",
              "      <td>1</td>\n",
              "      <td>1</td>\n",
              "      <td>0</td>\n",
              "      <td>1</td>\n",
              "    </tr>\n",
              "    <tr>\n",
              "      <th>1</th>\n",
              "      <td>0</td>\n",
              "      <td>1</td>\n",
              "      <td>0</td>\n",
              "      <td>1</td>\n",
              "      <td>0</td>\n",
              "      <td>1</td>\n",
              "      <td>1</td>\n",
              "      <td>0</td>\n",
              "    </tr>\n",
              "    <tr>\n",
              "      <th>2</th>\n",
              "      <td>1</td>\n",
              "      <td>0</td>\n",
              "      <td>1</td>\n",
              "      <td>0</td>\n",
              "      <td>0</td>\n",
              "      <td>0</td>\n",
              "      <td>1</td>\n",
              "      <td>1</td>\n",
              "    </tr>\n",
              "  </tbody>\n",
              "</table>\n",
              "</div>"
            ],
            "text/plain": [
              "   Money_spent_lots  ...  Eloquence_average\n",
              "0                 1  ...                  1\n",
              "1                 0  ...                  0\n",
              "2                 1  ...                  1\n",
              "\n",
              "[3 rows x 8 columns]"
            ]
          },
          "metadata": {
            "tags": []
          },
          "execution_count": 30
        }
      ]
    },
    {
      "cell_type": "markdown",
      "metadata": {
        "id": "VB0Xq5Tnq9Us",
        "colab_type": "text"
      },
      "source": [
        "**Draw a decision tree (by hand or in any graphics editor) for this dataset. Optionally you can also implement tree construction and draw it here.**\n",
        "\n"
      ]
    },
    {
      "cell_type": "markdown",
      "metadata": {
        "id": "0__-MbmQrBxg",
        "colab_type": "text"
      },
      "source": [
        "1. What is the entropy S0 of the initial system? By system states, we mean values of the binary feature \"Will_go\" - 0 or 1 - two states in total."
      ]
    },
    {
      "cell_type": "code",
      "metadata": {
        "id": "f1jDUohtrChr",
        "colab_type": "code",
        "colab": {}
      },
      "source": [
        "# you code here"
      ],
      "execution_count": 0,
      "outputs": []
    },
    {
      "cell_type": "markdown",
      "metadata": {
        "id": "1LlD8zbSrEKJ",
        "colab_type": "text"
      },
      "source": [
        "2. Let's split the data by the feature \"Looks_handsome\". What is the entropy S1 of the left group - the one with \"Looks_handsome\". What is the entropy S2 in the opposite group? What is the information gain (IG) if we consider such a split?"
      ]
    },
    {
      "cell_type": "code",
      "metadata": {
        "id": "mt7p4w-prLne",
        "colab_type": "code",
        "colab": {}
      },
      "source": [
        "# you code here"
      ],
      "execution_count": 0,
      "outputs": []
    },
    {
      "cell_type": "markdown",
      "metadata": {
        "id": "kX7Wb-TOrNPU",
        "colab_type": "text"
      },
      "source": [
        "**Train a decision tree using sklearn on the training data. You may choose any depth for the tree.**"
      ]
    },
    {
      "cell_type": "code",
      "metadata": {
        "id": "anjDlziarVL2",
        "colab_type": "code",
        "colab": {}
      },
      "source": [
        "# you code here"
      ],
      "execution_count": 0,
      "outputs": []
    },
    {
      "cell_type": "markdown",
      "metadata": {
        "id": "8zV7qgT5rXwl",
        "colab_type": "text"
      },
      "source": [
        "**Additional: display the resulting tree using graphviz. You can use pydot or web-service dot2png.**"
      ]
    },
    {
      "cell_type": "code",
      "metadata": {
        "id": "TkymD514ra8O",
        "colab_type": "code",
        "colab": {}
      },
      "source": [
        "# you code here"
      ],
      "execution_count": 0,
      "outputs": []
    }
  ]
}