{
  "nbformat": 4,
  "nbformat_minor": 0,
  "metadata": {
    "colab": {
      "name": "linereg2.ipynb",
      "version": "0.3.2",
      "provenance": []
    },
    "kernelspec": {
      "name": "python3",
      "display_name": "Python 3"
    }
  },
  "cells": [
    {
      "cell_type": "code",
      "metadata": {
        "id": "M4u0rYrePysF",
        "colab_type": "code",
        "colab": {}
      },
      "source": [
        "import numpy as np\n",
        "import matplotlib.pyplot as plt\n",
        "import random\n",
        "import pandas as pd\n",
        "from sklearn.metrics import mean_squared_error"
      ],
      "execution_count": 0,
      "outputs": []
    },
    {
      "cell_type": "code",
      "metadata": {
        "id": "fs7ywm2jP60w",
        "colab_type": "code",
        "colab": {}
      },
      "source": [
        "def myfunc(xx):\n",
        "    return np.sin(xx)+5"
      ],
      "execution_count": 0,
      "outputs": []
    },
    {
      "cell_type": "code",
      "metadata": {
        "id": "JLnuoIuqP9S4",
        "colab_type": "code",
        "colab": {}
      },
      "source": [
        "def generate_set(N=500, n_points=5, std=0.5):\n",
        "    x1=np.linspace(-2*np.pi, 2*np.pi, num=N)\n",
        "\n",
        "    y1=myfunc(x1)\n",
        "    \n",
        "    dall=pd.DataFrame()\n",
        "    dall['x']=x1\n",
        "    dall['y']=y1\n",
        "    x_train= np.sort(np.random.choice(x1, size= n_points, replace=True))\n",
        "\n",
        "    y_train = myfunc(x_train) + np.random.normal(0, std, size=x_train.shape[0])\n",
        "    data=pd.DataFrame()\n",
        "    data['xt'] = x_train\n",
        "    data['yt'] = y_train\n",
        "    return dall, data"
      ],
      "execution_count": 0,
      "outputs": []
    },
    {
      "cell_type": "code",
      "metadata": {
        "id": "z7CE9zWrP_tV",
        "colab_type": "code",
        "colab": {}
      },
      "source": [
        "nTrain=100\n",
        "\n",
        "dall, data = generate_set(n_points=nTrain)\n",
        "data.head()"
      ],
      "execution_count": 0,
      "outputs": []
    },
    {
      "cell_type": "code",
      "metadata": {
        "id": "jJ_GHwnmQBzf",
        "colab_type": "code",
        "colab": {}
      },
      "source": [
        "nTest=2\n",
        "__, dataTest = generate_set(n_points=nTest)\n"
      ],
      "execution_count": 0,
      "outputs": []
    },
    {
      "cell_type": "code",
      "metadata": {
        "id": "R7EqFE_iQDq4",
        "colab_type": "code",
        "colab": {}
      },
      "source": [
        "margin = 0.3\n",
        "plt.figure(figsize=(10,5));\n",
        "plt.plot(dall.x, dall.y, 'b--', alpha=0.5, label='target')\n",
        "plt.scatter(data.xt, data.yt, 20, 'g', 'o', alpha=0.8, label='data')\n",
        "plt.legend(loc='upper right', prop={'size': 10})\n",
        "plt.title('target line and noised data')\n",
        "plt.xlabel('x')\n",
        "plt.ylabel('y')\n",
        "\n",
        "plt.show()\n"
      ],
      "execution_count": 0,
      "outputs": []
    },
    {
      "cell_type": "code",
      "metadata": {
        "id": "HYPiFEaZQG-z",
        "colab_type": "code",
        "colab": {}
      },
      "source": [
        "from sklearn.linear_model import Ridge\n",
        "from sklearn.preprocessing import PolynomialFeatures\n",
        "from sklearn.pipeline import make_pipeline\n",
        "\n",
        "y_true=dataTest.yt\n",
        "X = dall.x[:, np.newaxis]\n",
        "X_plot = dall.x[:, np.newaxis]\n",
        "\n",
        "colors = ['red', 'yellowgreen', 'black']\n",
        "lw = 2\n",
        "\n",
        "plt.figure(figsize=(10,5));\n",
        "plt.xlim(data.xt.min() - margin, data.xt.max() + margin)\n",
        "plt.ylim(0, 10)\n",
        "\n",
        "for count, degree in enumerate([3,4,5]):\n",
        "    model = make_pipeline(PolynomialFeatures(degree), Ridge())\n",
        "    \n",
        "    model.fit(data.xt.values.reshape(-1, 1), data.yt.values.reshape(-1, 1))\n",
        "    \n",
        "    y_pred=model.predict(dataTest.xt[:, np.newaxis])\n",
        "    \n",
        "    mse=mean_squared_error(y_true, y_pred)\n",
        "    \n",
        "    y_plot = model.predict(X_plot)\n",
        "    text=\"degree %d\" % degree,\"mse=%f\" % mse\n",
        "    plt.plot(dall.x, y_plot, color=colors[count], linewidth=lw,\n",
        "    label=text)\n",
        "\n",
        "\n",
        "\n",
        "plt.plot(dall.x, dall.y, 'b--', alpha=0.5, label='target')\n",
        "plt.scatter(data.xt, data.yt, 20, 'g', 'o', label='data')\n",
        "plt.legend(loc='upper right', prop={'size': 10})\n",
        "\n",
        "plt.show()\n"
      ],
      "execution_count": 0,
      "outputs": []
    }
  ]
}